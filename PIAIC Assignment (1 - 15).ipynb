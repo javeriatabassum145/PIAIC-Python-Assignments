{
 "cells": [
  {
   "cell_type": "markdown",
   "metadata": {},
   "source": [
    "# PIAIC SLACK ASSIGNMENT"
   ]
  },
  {
   "cell_type": "code",
   "execution_count": 1,
   "metadata": {},
   "outputs": [
    {
     "name": "stdout",
     "output_type": "stream",
     "text": [
      "Enter radius of a circle : 2\n",
      "Area of a circle is :  12.566\n"
     ]
    }
   ],
   "source": [
    "\"\"\"1.Write a Python program which accepts the radius of a circle from the user \n",
    "and compute the area\"\"\"\n",
    "\n",
    "import math\n",
    "radius=float(input(\"Enter radius of a circle : \"))\n",
    "area=math.pi*((radius)**2)\n",
    "print(\"Area of a circle is : \", round(area,3))"
   ]
  },
  {
   "cell_type": "code",
   "execution_count": 2,
   "metadata": {},
   "outputs": [
    {
     "name": "stdout",
     "output_type": "stream",
     "text": [
      "Enter any number : 3\n",
      "Number is positive\n"
     ]
    }
   ],
   "source": [
    "\"\"\"2.Write a Python program to check if a number is positive, negative or zero\"\"\"\n",
    "\n",
    "num=int(input( \"Enter any number : \" ))\n",
    "if num < 0:\n",
    "    print( \"Number is negative\" )\n",
    "elif num > 0:\n",
    "    print( \"Number is positive\" )\n",
    "elif num == 0 :\n",
    "    print( \"Number is zero\" )\n",
    "else:\n",
    "    print( \"Invalid input\" )"
   ]
  },
  {
   "cell_type": "code",
   "execution_count": 3,
   "metadata": {},
   "outputs": [
    {
     "name": "stdout",
     "output_type": "stream",
     "text": [
      "Enter a number : 4\n",
      "Enter another number : 5\n",
      "Number 1 is not divisible by Number 2\n"
     ]
    }
   ],
   "source": [
    "\"\"\"3.Write a Python function to check whether a number is completely divisible by another number. \n",
    "Accept two integer values form the user\"\"\"\n",
    "\n",
    "num1=int(input( \"Enter a number : \" ))\n",
    "num2=int(input( \"Enter another number : \" ))\n",
    "if num1 % num2 == 0:\n",
    "    print( \"Number 1 is divisible by Number 2\" )\n",
    "else:\n",
    "    print( \"Number 1 is not divisible by Number 2\" )"
   ]
  },
  {
   "cell_type": "code",
   "execution_count": 4,
   "metadata": {},
   "outputs": [
    {
     "name": "stdout",
     "output_type": "stream",
     "text": [
      "Enter a number : 6\n",
      "The value of n+nn+nnn is :  258\n"
     ]
    }
   ],
   "source": [
    "\"\"\"4.Write a Python program that accepts an integer (n) and \n",
    "computes the value of (n + nn + nnn)\"\"\"\n",
    "\n",
    "n=int(input(\"Enter a number : \"))\n",
    "a=n+(n**2)+(n**3)\n",
    "print(\"The value of n+nn+nnn is : \", a)"
   ]
  },
  {
   "cell_type": "code",
   "execution_count": 5,
   "metadata": {},
   "outputs": [
    {
     "name": "stdout",
     "output_type": "stream",
     "text": [
      "30 days\n"
     ]
    }
   ],
   "source": [
    "\"\"\"Write a python program to calculate number of days between two dates \"\"\"\n",
    "\n",
    "from datetime import date\n",
    "\n",
    "date1 = date (18,4,2)\n",
    "date2 = date (18,5,2)\n",
    "days_between_two_dates = date2 - date1\n",
    "print(days_between_two_dates.days , \"days\")##############\n"
   ]
  },
  {
   "cell_type": "code",
   "execution_count": 6,
   "metadata": {},
   "outputs": [
    {
     "name": "stdout",
     "output_type": "stream",
     "text": [
      "Enter radius of a sphere : 4\n",
      "Volume of sphere is :  268.082573106329\n"
     ]
    }
   ],
   "source": [
    "\"\"\"6.Write a Python program to get the volume of a sphere,\n",
    " please take the radius as input from user. V=4 / 3 πr3\"\"\"\n",
    "\n",
    "import math\n",
    "radius = int(input(\"Enter radius of a sphere : \"))\n",
    "volume = 4 / 3 *(math.pi * (radius ** 3))\n",
    "print( \"Volume of sphere is : \", volume )"
   ]
  },
  {
   "cell_type": "code",
   "execution_count": 7,
   "metadata": {},
   "outputs": [
    {
     "name": "stdout",
     "output_type": "stream",
     "text": [
      "Enter a number : 5\n",
      "Difference can not be negative\n"
     ]
    }
   ],
   "source": [
    "\"\"\"7.Write a Python program to get the difference between a given number and 17, \n",
    "difference cannot be negative\"\"\"\n",
    "\n",
    "user_input=int(input(\"Enter a number : \"))\n",
    "difference=user_input-17\n",
    "if difference < 0:\n",
    "    print(\"Difference can not be negative\")\n",
    "else:\n",
    "    print(\"Difference between a given number and 17 is : \", difference)"
   ]
  },
  {
   "cell_type": "code",
   "execution_count": 8,
   "metadata": {},
   "outputs": [
    {
     "name": "stdout",
     "output_type": "stream",
     "text": [
      "Enter string : y\n",
      "Isy\n"
     ]
    }
   ],
   "source": [
    "\"\"\"8.Write a Python program to get a new string from a given string where \"Is\" has been added \n",
    "to the front. If the given string already begins with \"Is\" then return the string unchanged\"\"\"\n",
    "\n",
    "user_input=input(\"Enter string : \")\n",
    "if user_input[0:2].title() != \"Is\":\n",
    "    new_string = \"Is\" + user_input \n",
    "    print(new_string)\n",
    "else:\n",
    "    print(user_input)"
   ]
  },
  {
   "cell_type": "code",
   "execution_count": 9,
   "metadata": {},
   "outputs": [
    {
     "name": "stdout",
     "output_type": "stream",
     "text": [
      "Enter non negative integer : 5\n",
      "n_copies are pythonpythonpythonpythonpython\n"
     ]
    }
   ],
   "source": [
    "\"\"\"9.Write a Python program to get a string\n",
    " which is n (non-negative integer) copies of a given string\"\"\"\n",
    "\n",
    "string=\"python\"\n",
    "n=int(input(\"Enter non negative integer : \"))\n",
    "n_copies = string * n\n",
    "print(\"n_copies are\" , n_copies)"
   ]
  },
  {
   "cell_type": "code",
   "execution_count": 10,
   "metadata": {},
   "outputs": [
    {
     "name": "stdout",
     "output_type": "stream",
     "text": [
      "Enter a number : 4\n",
      "Number is even\n"
     ]
    }
   ],
   "source": [
    "\"\"\"10.Write a Python program to find whether a given number (accept from the user) is even or odd, \n",
    "print out an appropriate message to the user.\"\"\"\n",
    "\n",
    "user_input=int(input(\"Enter a number : \"))\n",
    "if user_input%2 != 0:\n",
    "    print(\"Number is odd\")\n",
    "else:\n",
    "    print(\"Number is even\")"
   ]
  },
  {
   "cell_type": "code",
   "execution_count": 11,
   "metadata": {},
   "outputs": [
    {
     "name": "stdout",
     "output_type": "stream",
     "text": [
      "Enter a letter : e\n",
      "Letter is VOWEL\n"
     ]
    }
   ],
   "source": [
    "\"\"\"11.Write a Python program to test whether a passed letter is a vowel or not\"\"\"\n",
    "\n",
    "letter=input(\"Enter a letter : \")\n",
    "vowels=\"a\",\"e\",\"i\",\"o\",\"u\"\n",
    "if letter in vowels:\n",
    "    print(\"Letter is VOWEL\")\n",
    "else:\n",
    "    print(\"Letter is not VOWEL\")"
   ]
  },
  {
   "cell_type": "code",
   "execution_count": 12,
   "metadata": {},
   "outputs": [
    {
     "name": "stdout",
     "output_type": "stream",
     "text": [
      "Enter base of triangle : 4\n",
      "Enter height of triangle : 5\n",
      "Area of triangle is  10.0\n"
     ]
    }
   ],
   "source": [
    "\"\"\"12.Write a Python program that will accept the base \n",
    "and height of a triangle and compute the area \"\"\"\n",
    "\n",
    "base = int(input(\"Enter base of triangle : \"))\n",
    "height = int(input(\"Enter height of triangle : \"))\n",
    "area = 1/2 * (base * height)\n",
    "print( \"Area of triangle is \" , area )"
   ]
  },
  {
   "cell_type": "code",
   "execution_count": 13,
   "metadata": {},
   "outputs": [
    {
     "name": "stdout",
     "output_type": "stream",
     "text": [
      "Enter first number : 4\n",
      "Enter second number : 4\n",
      "True\n",
      "Enter first number : 5\n",
      "Enter second number : 6\n",
      "False\n"
     ]
    }
   ],
   "source": [
    "\"\"\"13.\tWrite a Python program that will return true \n",
    "if the two given integer values are equal or their sum or difference is 5.\"\"\"\n",
    "\n",
    "num1 = int(input(\"Enter first number : \"))\n",
    "num2 = int(input(\"Enter second number : \"))\n",
    "if num1 == num2:\n",
    "    print (True)\n",
    "elif num1 + num2 == 5:\n",
    "    print( True )\n",
    "elif num1 - num2 == 5:\n",
    "    print( True )\n",
    "else:\n",
    "    print(False)\n",
    "\n",
    "    \"\"\"OR\"\"\"\n",
    "\n",
    "user_input1 = int(input(\"Enter first number : \"))\n",
    "user_input2 = int(input(\"Enter second number : \"))\n",
    "if user_input1 == user_input2 or user_input1+user_input2 == 5 or user_input1-user_input2 == 5:\n",
    "    print(True)\n",
    "else:\n",
    "    print(False)"
   ]
  },
  {
   "cell_type": "code",
   "execution_count": 14,
   "metadata": {},
   "outputs": [
    {
     "name": "stdout",
     "output_type": "stream",
     "text": [
      "Enter a number : 4\n",
      "Enter a number : 5\n",
      "(x+y)*(x+y) is :  81\n"
     ]
    }
   ],
   "source": [
    "\"\"\"14.Write a python program to solve (x+y) * (x+y) \"\"\"\n",
    "\n",
    "x=int(input(\"Enter a number : \"))\n",
    "y=int(input(\"Enter a number : \"))\n",
    "z = x + y\n",
    "print(\"(x+y)*(x+y) is : \", z * z )"
   ]
  },
  {
   "cell_type": "code",
   "execution_count": 15,
   "metadata": {},
   "outputs": [
    {
     "name": "stdout",
     "output_type": "stream",
     "text": [
      "Enter Principal amount : 300\n",
      "Enter Rate of Interest per year : 300\n",
      "Enter number of years : 2\n",
      "Future value is  2100.0\n"
     ]
    }
   ],
   "source": [
    "\"\"\"15.Write a Python program to compute the future value of a \n",
    "specified principal amount, rate of interest, and a number of years.\"\"\"\n",
    "\n",
    "principal_amount = float(input(\"Enter Principal amount : \"))\n",
    "rate_of_interest = float(input(\"Enter Rate of Interest per year : \"))\n",
    "number_of_years = float(input(\"Enter number of years : \"))\n",
    "future_value = principal_amount * ( 1 + ((rate_of_interest/100) * number_of_years))\n",
    "print(\"Future value is \" , future_value)#######"
   ]
  }
 ],
 "metadata": {
  "kernelspec": {
   "display_name": "Python 3",
   "language": "python",
   "name": "python3"
  },
  "language_info": {
   "codemirror_mode": {
    "name": "ipython",
    "version": 3
   },
   "file_extension": ".py",
   "mimetype": "text/x-python",
   "name": "python",
   "nbconvert_exporter": "python",
   "pygments_lexer": "ipython3",
   "version": "3.7.3"
  }
 },
 "nbformat": 4,
 "nbformat_minor": 2
}
