{
 "cells": [
  {
   "cell_type": "markdown",
   "metadata": {},
   "source": [
    "# PIAIC Slack Assignment"
   ]
  },
  {
   "cell_type": "code",
   "execution_count": 1,
   "metadata": {},
   "outputs": [
    {
     "name": "stdout",
     "output_type": "stream",
     "text": [
      "Enter num : 2\n",
      "Enter num : 3\n",
      "Enter num : 4\n",
      "Enter num : 5\n",
      "Distance beween two poins are  4.0\n"
     ]
    }
   ],
   "source": [
    "\"\"\"16.Write a Python program to compute the distance between the points (x1, y1) and (x2, y2).\"\"\"\n",
    "\n",
    "def points():\n",
    "    x1 = int(input(\"Enter num : \"))\n",
    "    y1 = int(input(\"Enter num : \"))\n",
    "    x2 = int(input(\"Enter num : \"))\n",
    "    y2 = int(input(\"Enter num : \"))\n",
    "    distance = ((x2 - x1)**2 + (y2 - y1)**2)**1/2\n",
    "    print(\"Distance beween two poins are \", distance)\n",
    "\n",
    "points()"
   ]
  },
  {
   "cell_type": "code",
   "execution_count": 2,
   "metadata": {},
   "outputs": [
    {
     "name": "stdout",
     "output_type": "stream",
     "text": [
      "Enter height in feet : 5\n",
      "Enter height in inch : 4\n",
      "Height in centimetres :  163 cm\n"
     ]
    }
   ],
   "source": [
    "\"\"\"17.Write a Python program to convert height (in feet and inches) to centimetres.\"\"\"\n",
    "\n",
    "h_foot = float(input(\"Enter height in feet : \"))\n",
    "h_inch = float(input(\"Enter height in inch : \"))\n",
    "h_foot +=(h_inch / 12)\n",
    "h_cm = h_foot * 30.48\n",
    "print(\"Height in centimetres : \" ,round(h_cm,),\"cm\")"
   ]
  },
  {
   "cell_type": "code",
   "execution_count": 3,
   "metadata": {},
   "outputs": [
    {
     "name": "stdout",
     "output_type": "stream",
     "text": [
      "Enter base of right angle triangle : 4\n",
      "Enter perpendicular of right angle triangle : 4\n",
      "Hypotenuse of right angle triangle is :  5.656854249492381\n"
     ]
    }
   ],
   "source": [
    "\"\"\"18.Write a Python program to calculate the hypotenuse of a right angled triangle\"\"\"\n",
    "\n",
    "from math import sqrt\n",
    "base=int(input(\"Enter base of right angle triangle : \"))\n",
    "perpendicular=int(input(\"Enter perpendicular of right angle triangle : \"))\n",
    "hypotenuse = sqrt(base**2+perpendicular**2)\n",
    "print(\"Hypotenuse of right angle triangle is : \",hypotenuse)"
   ]
  },
  {
   "cell_type": "code",
   "execution_count": 4,
   "metadata": {},
   "outputs": [
    {
     "name": "stdout",
     "output_type": "stream",
     "text": [
      "Enter distance in feet : 5\n",
      "Distance in inches 0.4166666666666667\n",
      "Distance in yard 1.6666666666666667\n",
      "Distance in miles 0.000946969696969697\n"
     ]
    }
   ],
   "source": [
    "\"\"\"19.Write a Python program to convert the distance (in feet) to inches, yards, and miles.\n",
    "1 feet = 12 inches, 3 feet = 1 yard, 5280 feet = 1 mile\"\"\"\n",
    "\n",
    "distance = float(input(\"Enter distance in feet : \"))\n",
    "dist_inches = distance / 12\n",
    "dist_yard = (distance / 3)\n",
    "dist_mile = (distance / 5280)\n",
    "print(\"Distance in inches\" ,dist_inches)\n",
    "print(\"Distance in yard\" ,dist_yard)\n",
    "print(\"Distance in miles\" ,dist_mile)"
   ]
  },
  {
   "cell_type": "code",
   "execution_count": 5,
   "metadata": {},
   "outputs": [
    {
     "name": "stdout",
     "output_type": "stream",
     "text": [
      "Enter time in hrs : 1\n",
      "Enter time in min: 60\n",
      "Time hours into seconds :  3600 seconds\n",
      "Time minutes into seconds :  3600 seconds\n"
     ]
    }
   ],
   "source": [
    "\"\"\"20. Write a Python program to convert all units of time into seconds.\"\"\"\n",
    "\n",
    "time_hrs = float(input(\"Enter time in hrs : \"))\n",
    "time_min = float(input(\"Enter time in min: \"))\n",
    "print(\"Time hours into seconds : \", int(time_hrs * 3600) , \"seconds\" )\n",
    "print(\"Time minutes into seconds : \", int(time_min * 60) , \"seconds\")"
   ]
  },
  {
   "cell_type": "code",
   "execution_count": 6,
   "metadata": {},
   "outputs": [
    {
     "name": "stdout",
     "output_type": "stream",
     "text": [
      "Enter time in sec : 86400\n",
      "Time seconds into day :  1 days\n",
      "Time seconds into hours :  24.0 hrs\n",
      "Time seconds into minutes :  1440.0 minutes\n"
     ]
    }
   ],
   "source": [
    "\"\"\"21.Write a Python program to convert seconds to day, hour, minutes and seconds.\"\"\"\n",
    "\n",
    "time_seconds = float(input(\"Enter time in sec : \"))\n",
    "print(\"Time seconds into day : \", int(time_seconds / (24 * 3600)) , \"days\" )\n",
    "print(\"Time seconds into hours : \", time_seconds / 3600 , \"hrs\" )\n",
    "print(\"Time seconds into minutes : \", time_seconds / 60 , \"minutes\")"
   ]
  },
  {
   "cell_type": "code",
   "execution_count": 7,
   "metadata": {},
   "outputs": [
    {
     "name": "stdout",
     "output_type": "stream",
     "text": [
      "Height is in meters(m) or inches(in)? Write only units \n",
      " m\n",
      "If height is in meters then Weight is in kilogram(kg) ,height is in inches then weight is in pounds(lbs)\n",
      "? Write only units kg\n",
      "Enter height : 4\n",
      "Enter weight : 55\n",
      "3.4375\n",
      "Very severely underweight\n"
     ]
    }
   ],
   "source": [
    "\"\"\"22. Write a Python program to calculate body mass index. \"\"\"\n",
    "\n",
    "user_input = input(\"Height is in meters(m) or inches(in)? Write only units \\n \")\n",
    "user_input1 = input(\"If height is in meters then Weight is in kilogram(kg) ,height is in inches then weight is in pounds(lbs)\\n? Write only units \")\n",
    "height = float(input(\"Enter height : \"))\n",
    "weight = float(input(\"Enter weight : \"))\n",
    "\n",
    "def calculate_bmi():\n",
    "    if bmi < 15:\n",
    "        print(\"Very severely underweight\")\n",
    "    elif bmi >= 15 and bmi <= 16:\n",
    "        print(\"Severely underweight\")\n",
    "    elif bmi >= 16 and bmi <= 18.5:\n",
    "        print(\"Underweight\")\n",
    "    elif bmi >= 18.5 and bmi <= 25:\n",
    "        print(\"Normal (Healthy weight)\")\n",
    "    elif bmi >= 25 and bmi <= 30:\n",
    "        print(\"Overweight\")\n",
    "    elif bmi >= 30 and bmi <= 35:\n",
    "        print(\"Moderately obese\")\n",
    "    elif bmi >= 35 and bmi <= 40:\n",
    "        print(\"Severely obese\")\n",
    "    elif bmi > 40:\n",
    "        print(\"Very severely obese\")\n",
    "    else:\n",
    "        print(\"Something wrong\")\n",
    "        \n",
    "if user_input == \"m\" and user_input1 == \"kg\":\n",
    "#     Metric BMI Formula\n",
    "#     bmi = weight (kg) / [height (m)]2\n",
    "     bmi = weight / ((height)**2)\n",
    "     print(bmi)\n",
    "     calculate_bmi()\n",
    "\n",
    "elif user_input == \"in\" and user_input1 == \"lbs\":\n",
    "#     Imperial BMI Formula\n",
    "#     BMI = 703 × weight (lbs) / [height (in)]2\n",
    "     bmi = 703 * (weight / ((height)**2))\n",
    "     print(bmi)\n",
    "     calculate_bmi()\n",
    "else:\n",
    "    print(\"Wrong input\")\n",
    "\n",
    "    \n"
   ]
  },
  {
   "cell_type": "code",
   "execution_count": 8,
   "metadata": {},
   "outputs": [
    {
     "name": "stdout",
     "output_type": "stream",
     "text": [
      "Enter temperature in celcius : 1\n",
      "Temperature in Fahrenhite is 36.8 F\n",
      "Enter temperature in fahrenhite : 1\n",
      "Temperature in Celcius is -17.22222222222222 C\n"
     ]
    }
   ],
   "source": [
    "\"\"\"23. Write a Python program to convert temperatures to and from Celsius, Fahrenheit\"\"\"\n",
    "\n",
    "temp_celcius = float(input(\"Enter temperature in celcius : \"))\n",
    "print(\"Temperature in Fahrenhite is\", (temp_celcius * (9/5) + 35),\"F\")\n",
    "temp_fahren = float(input(\"Enter temperature in fahrenhite : \"))\n",
    "print(\"Temperature in Celcius is\", ((temp_fahren - 32) * (5/9)), \"C\")"
   ]
  },
  {
   "cell_type": "code",
   "execution_count": 9,
   "metadata": {},
   "outputs": [
    {
     "name": "stdout",
     "output_type": "stream",
     "text": [
      "Enter n positive number9\n",
      "45\n"
     ]
    }
   ],
   "source": [
    "\"\"\"24.Write a python program to sum of the first n positive integers\"\"\"\n",
    "\n",
    "n=int(input(\"Enter n positive number\"))\n",
    "a=0\n",
    "for i in range(1,n+1):\n",
    "    a+=i\n",
    "print(a)"
   ]
  },
  {
   "cell_type": "code",
   "execution_count": 10,
   "metadata": {},
   "outputs": [
    {
     "name": "stdout",
     "output_type": "stream",
     "text": [
      "Enter number : 111\n",
      "3\n",
      "\n",
      "OR\n",
      "\n",
      "Enter a number: 121\n",
      "The sum of digits of number is 4\n"
     ]
    }
   ],
   "source": [
    "\"\"\"25.Write a Python program to calculate the sum of the digits in an integer\"\"\"\n",
    "\n",
    "number = input(\"Enter number : \")\n",
    "sum1 = 0\n",
    "for i in number:\n",
    "    sum1 += int(i)        \n",
    "print(sum1)\n",
    "\n",
    "print(\"\\nOR\\n\")\n",
    "\n",
    "num = int(input(\"Enter a number: \"))\n",
    "sum = 0\n",
    "while num > 0:\n",
    "    d = num%10\n",
    "    num = num//10\n",
    "    sum += d\n",
    "    # we can write above code in single line\n",
    "    # num,sum = num//10,sum+(num%10)# printing the sum\n",
    "print(\"The sum of digits of number is\",sum)"
   ]
  },
  {
   "cell_type": "code",
   "execution_count": 11,
   "metadata": {},
   "outputs": [
    {
     "name": "stdout",
     "output_type": "stream",
     "text": [
      "Enter a number : 4\n",
      "Binary      :  0b100\n",
      "Octal       :  0o4\n",
      "Hexadecimal :  0x4\n"
     ]
    }
   ],
   "source": [
    "\"\"\"26.Write a Python program to convert an integer to Binary, Octal and Hexadecimal numbers\"\"\"\n",
    "\n",
    "number = int(input(\"Enter a number : \"))\n",
    "print(\"Binary      : \" ,bin(number))\n",
    "print(\"Octal       : \" , oct(number))\n",
    "print(\"Hexadecimal : \" , hex(number))"
   ]
  },
  {
   "cell_type": "code",
   "execution_count": 12,
   "metadata": {},
   "outputs": [
    {
     "name": "stdout",
     "output_type": "stream",
     "text": [
      "Binary number to decimal : 9\n",
      "\n",
      "OR\n",
      "\n",
      "Binary number to decimal : 9\n"
     ]
    }
   ],
   "source": [
    "\"\"\"27. Write a program to convert binary number to Decimal number\"\"\"\n",
    "\n",
    "decimal = 0\n",
    "binary = [1,0,0,1]\n",
    "for i in range(len(binary)):\n",
    "    dig = binary.pop()\n",
    "    if dig == 1:\n",
    "        decimal += pow(2,i)\n",
    "print(\"Binary number to decimal :\", decimal)\n",
    "\n",
    "print(\"\\nOR\\n\")\n",
    "\n",
    "binary = \"1001\"\n",
    "for i in binary:\n",
    "    if i not in \"01\":\n",
    "        print(\"Not a binary number\")\n",
    "print(\"Binary number to decimal :\", int(binary,2))"
   ]
  },
  {
   "cell_type": "code",
   "execution_count": 13,
   "metadata": {},
   "outputs": [
    {
     "name": "stdout",
     "output_type": "stream",
     "text": [
      "Octal number to decimal : 229\n"
     ]
    }
   ],
   "source": [
    "\"\"\"28. Write a program to convert Octal number to Decimal number\"\"\"\n",
    "\n",
    "octal = \"345\"\n",
    "for i in octal:\n",
    "    if i not in (\"01234567\"):\n",
    "        print(\"Not octal number\")       \n",
    "print(\"Octal number to decimal :\", int(octal,8))"
   ]
  },
  {
   "cell_type": "code",
   "execution_count": 14,
   "metadata": {},
   "outputs": [
    {
     "name": "stdout",
     "output_type": "stream",
     "text": [
      "Hexadecimal number to decimal : 13403\n"
     ]
    }
   ],
   "source": [
    "\"\"\"29. Write a program to convert Hexadecimal number to Decimal number\"\"\"\n",
    "\n",
    "hexa = \"345B\"\n",
    "for i in hexa:\n",
    "    if i not in (\"0123456789ABCDEF\"):\n",
    "        print(\"Not hexadecimal number\")\n",
    "print(\"Hexadecimal number to decimal :\", int(hexa,16))"
   ]
  },
  {
   "cell_type": "code",
   "execution_count": 15,
   "metadata": {},
   "outputs": [
    {
     "name": "stdout",
     "output_type": "stream",
     "text": [
      "Enter a string : helloworld\n",
      "Enter a specific character : l\n",
      "Specific character occurs 3 times\n"
     ]
    }
   ],
   "source": [
    "\"\"\"30.Write a Python program to count the number occurrence of a specific character in a string\"\"\"\n",
    "\n",
    "user_input=input(\"Enter a string : \")\n",
    "specific_char=input(\"Enter a specific character : \")\n",
    "count=0\n",
    "for i in user_input:\n",
    "    if i in specific_char:\n",
    "        count+=1\n",
    "print(\"Specific character occurs\",count,\"times\")"
   ]
  }
 ],
 "metadata": {
  "kernelspec": {
   "display_name": "Python 3",
   "language": "python",
   "name": "python3"
  },
  "language_info": {
   "codemirror_mode": {
    "name": "ipython",
    "version": 3
   },
   "file_extension": ".py",
   "mimetype": "text/x-python",
   "name": "python",
   "nbconvert_exporter": "python",
   "pygments_lexer": "ipython3",
   "version": "3.7.3"
  }
 },
 "nbformat": 4,
 "nbformat_minor": 2
}
