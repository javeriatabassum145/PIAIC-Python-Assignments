{
 "cells": [
  {
   "cell_type": "markdown",
   "metadata": {},
   "source": [
    "# PIAIC Slack Assignment"
   ]
  },
  {
   "cell_type": "code",
   "execution_count": 1,
   "metadata": {},
   "outputs": [
    {
     "name": "stdout",
     "output_type": "stream",
     "text": [
      "Enter your first name :javeria\n",
      "Enter your Last name :tabassum\n",
      "airevaj mussabat\n"
     ]
    }
   ],
   "source": [
    "\"\"\"33. Write a Python program which accepts the user's first and last name and print \n",
    "them in reverse order with a space between them (Practice After Loops has been discussed)\"\"\"\n",
    "\n",
    "First_name = list(input(\"Enter your first name :\"))\n",
    "lst1 = []\n",
    "lst2 = []\n",
    "Last_name = list(input(\"Enter your Last name :\"))\n",
    "for i in range(len(First_name)):\n",
    "    rev_First = First_name.pop()\n",
    "    lst1.append(rev_First)\n",
    "# for j in lst1:\n",
    "    a = \"\".join(lst1)\n",
    "    \n",
    "for k in range(len(Last_name)):\n",
    "    rev_Last = Last_name.pop()\n",
    "    lst2.append(rev_Last)\n",
    "# for l in lst2:\n",
    "    b = \"\".join(lst2)  \n",
    "\n",
    "print(a + \" \" + b )"
   ]
  },
  {
   "cell_type": "code",
   "execution_count": 2,
   "metadata": {},
   "outputs": [
    {
     "name": "stdout",
     "output_type": "stream",
     "text": [
      "Enter any text : hello world\n",
      "Vowels :  3\n",
      "Consonants :  7\n"
     ]
    }
   ],
   "source": [
    "\"\"\"34. Input a text and count the occurrences of vowels and consonant \"\"\"\n",
    "\n",
    "user_input = (input(\"Enter any text : \")).replace(\" \",\"\")\n",
    "vowels=[\"a\",\"e\",\"i\",\"o\",\"u\"]\n",
    "count_vowels=0\n",
    "count_consonants=0\n",
    "for i in user_input:\n",
    "    if i in vowels:\n",
    "        count_vowels+=1\n",
    "print(\"Vowels : \",count_vowels)\n",
    "\n",
    "for i in user_input:\n",
    "    if i not in vowels:\n",
    "        count_consonants+=1        \n",
    "print(\"Consonants : \",count_consonants)"
   ]
  },
  {
   "cell_type": "code",
   "execution_count": 3,
   "metadata": {},
   "outputs": [
    {
     "name": "stdout",
     "output_type": "stream",
     "text": [
      "Enter Amount : 1500\n",
      "Number of 1000 notes are 1\n",
      "Number of 500 notes are 1\n",
      "Number of 100 notes are 0\n",
      "Number of 50 notes are 0\n",
      "Number of 20 notes are 0\n",
      "Number of 10 notes are 0\n"
     ]
    }
   ],
   "source": [
    "\"\"\"35. Write a Python program to find the number of notes\n",
    "(Sample of notes: 10, 20, 50, 100, 500, and 1000 ) against an given amount\"\"\"\n",
    "\n",
    "user_input = int(input(\"Enter Amount : \"))\n",
    "notes = [1000, 500, 100, 50, 20, 10]\n",
    "for i in notes:\n",
    "    divide_notes = int(user_input / i)\n",
    "    print(\"Number of\",i,\"notes are\",divide_notes)\n",
    "    while user_input >= i:\n",
    "            user_input -=i"
   ]
  },
  {
   "cell_type": "code",
   "execution_count": 4,
   "metadata": {},
   "outputs": [
    {
     "name": "stdout",
     "output_type": "stream",
     "text": [
      "Enter any word : mam\n",
      "The word is PALINDROME\n"
     ]
    }
   ],
   "source": [
    "\"\"\"36. Write a program to check whether given input is palindrome or not\"\"\"\n",
    "\n",
    "user_input=input(\"Enter any word : \")\n",
    "if user_input == user_input[::-1]:\n",
    "    print(\"The word is PALINDROME\")\n",
    "else:\n",
    "    print(\"The word is not PALINDROME\")"
   ]
  },
  {
   "cell_type": "code",
   "execution_count": 5,
   "metadata": {},
   "outputs": [
    {
     "name": "stdout",
     "output_type": "stream",
     "text": [
      "343\n"
     ]
    }
   ],
   "source": [
    "\"\"\"37. Write a Python program to reverse the digits of a given number and add it to the original,\n",
    "If the sum is not a palindrome repeat this procedure\"\"\"\n",
    "\n",
    "number = \"122\"\n",
    "# number = \"111\"\n",
    "number_reverse = number[::-1]\n",
    "for i in range(len(number)):  \n",
    "    if number != number_reverse:\n",
    "        n = int(number)\n",
    "        m = int(number_reverse)\n",
    "        n += m\n",
    "        print(n)\n",
    "        break\n",
    "else:\n",
    "    print(\"Number is palindrome\")#########"
   ]
  },
  {
   "cell_type": "code",
   "execution_count": 6,
   "metadata": {},
   "outputs": [
    {
     "name": "stdout",
     "output_type": "stream",
     "text": [
      "Fibonacci series : 0 1 1 2 3 5 8 13 21 34 \n",
      "OR\n",
      "\n",
      "Fibonacci series : 0 1 1 2 3 5 8 13 21 34 "
     ]
    }
   ],
   "source": [
    "\"\"\"38. Write a Python program to get the Fibonacci series between 0 to 50\"\"\"\n",
    "\n",
    "n1 = 0\n",
    "n2 = 1\n",
    "print(\"Fibonacci series :\",end =\" \")\n",
    "for i in range(10):\n",
    "    for j in range(0,i+1):\n",
    "        if i <= 10:\n",
    "            print(n1, end =\" \")\n",
    "            final_term = n1 + n2\n",
    "            n1 = n2\n",
    "            n2 = final_term\n",
    "        break\n",
    "        \n",
    "print(\"\\nOR\\n\")\n",
    "\n",
    "term_1 = 0\n",
    "term_2 = 1\n",
    "count = 0\n",
    "print(\"Fibonacci series :\",end =\" \")\n",
    "while count < 10:\n",
    "    print(term_1,end = \" \")\n",
    "    final_term = term_1 + term_2\n",
    "    term_1 = term_2\n",
    "    term_2 = final_term\n",
    "    count += 1"
   ]
  },
  {
   "cell_type": "code",
   "execution_count": 7,
   "metadata": {},
   "outputs": [
    {
     "name": "stdout",
     "output_type": "stream",
     "text": [
      "Enter any number : 4\n",
      "4  *  1  =  4\n",
      "4  *  2  =  8\n",
      "4  *  3  =  12\n",
      "4  *  4  =  16\n",
      "4  *  5  =  20\n",
      "4  *  6  =  24\n",
      "4  *  7  =  28\n",
      "4  *  8  =  32\n",
      "4  *  9  =  36\n",
      "4  *  10  =  40\n",
      "\n",
      "OR\n",
      "\n",
      "Enter any number : 5\n",
      "5  *  1  =  5\n",
      "5  *  2  =  10\n",
      "5  *  3  =  15\n",
      "5  *  4  =  20\n",
      "5  *  5  =  25\n",
      "5  *  6  =  30\n",
      "5  *  7  =  35\n",
      "5  *  8  =  40\n",
      "5  *  9  =  45\n",
      "5  *  10  =  50\n"
     ]
    }
   ],
   "source": [
    "\"\"\"39. Write a Python program to create the multiplication table (from 1 to 10) of a number\"\"\"\n",
    "\n",
    "user_input = int(input(\"Enter any number : \"))\n",
    "for i in range(1,11):\n",
    "    print(user_input,\" * \",i,\" = \",user_input*i)\n",
    "    \n",
    "print(\"\\nOR\\n\")\n",
    "\n",
    "user_input = int(input(\"Enter any number : \"))\n",
    "i = 0\n",
    "while i < 10:\n",
    "    i +=1\n",
    "    print(user_input,\" * \",i,\" = \",user_input*i)\n"
   ]
  },
  {
   "cell_type": "code",
   "execution_count": 8,
   "metadata": {},
   "outputs": [
    {
     "name": "stdout",
     "output_type": "stream",
     "text": [
      "Enter string : Python 3.2\n",
      "Letters : 6\n",
      "Digits : 2\n"
     ]
    }
   ],
   "source": [
    "\"\"\"40. Write a Python program that accepts a string and calculate the number of digits and letters Sample Data :\n",
    "Python 3.2, Expected Output : Letters 6, Digits 2\"\"\"\n",
    "\n",
    "import string \n",
    "str1 = input(\"Enter string : \")\n",
    "count_letters = 0\n",
    "count_digits = 0\n",
    "letters = list(string.ascii_letters)\n",
    "digits = list(string.digits)\n",
    "for i in letters:\n",
    "    for j in str1:\n",
    "        if j in i:\n",
    "            count_letters += 1\n",
    "print(\"Letters :\" ,count_letters)\n",
    "\n",
    "for i in digits:\n",
    "    for j in str1:\n",
    "        if j in i:\n",
    "            count_digits += 1\n",
    "print(\"Digits :\" ,count_digits)\n"
   ]
  },
  {
   "cell_type": "code",
   "execution_count": 9,
   "metadata": {},
   "outputs": [
    {
     "name": "stdout",
     "output_type": "stream",
     "text": [
      "\n",
      "* \n",
      "* * \n",
      "* * * \n",
      "* * * * \n",
      "* * * * * \n",
      "* * * * \n",
      "* * * \n",
      "* * \n",
      "* \n",
      "\n"
     ]
    }
   ],
   "source": [
    "\"\"\"41.\tWrite a Python program to construct the following pattern, using a nested for loop\n",
    "* \n",
    "* * \n",
    "* * * \n",
    "* * * * \n",
    "* * * * * \n",
    "* * * * \n",
    "* * * \n",
    "* * \n",
    "*\n",
    "\"\"\"\n",
    "\n",
    "for i in range(6):\n",
    "    print(\"* \" * (i))\n",
    "for j in range(5,0,-1):\n",
    "    print(\"* \" * (j-1) )\n"
   ]
  },
  {
   "cell_type": "code",
   "execution_count": 10,
   "metadata": {},
   "outputs": [
    {
     "name": "stdout",
     "output_type": "stream",
     "text": [
      "1 \r\n",
      "1 2 \r\n",
      "1 2 3 \r\n",
      "1 2 3 4 \r\n",
      "1 2 3 4 5 \r\n",
      "1 2 3 4 \r\n",
      "1 2 3 \r\n",
      "1 2 \r\n",
      "1 \r\n"
     ]
    }
   ],
   "source": [
    "\"\"\"42. Write a Python program to construct the following pattern, using a nested for loop\n",
    "1 \n",
    "1 2 \n",
    "1 2 3 \n",
    "1 2 3 4 \n",
    "1 2 3 4 5 \n",
    "1 2 3 4 \n",
    "1 2 3 \n",
    "1 2 \n",
    "1\n",
    "\"\"\"        \n",
    "num = 1\n",
    "for i in range(0, 5): \n",
    "        num = 1\n",
    "        for j in range(0, i+1): \n",
    "            print(num, end=\" \") \n",
    "            num = num + 1\n",
    "        print(\"\\r\") \n",
    "       \n",
    "for i in range(4,0,-1): \n",
    "        num = 1\n",
    "        for j in range(i,0,-1): \n",
    "            print(num, end=\" \") \n",
    "            num = num + 1\n",
    "        \n",
    "        print(\"\\r\") "
   ]
  },
  {
   "cell_type": "code",
   "execution_count": 11,
   "metadata": {},
   "outputs": [
    {
     "name": "stdout",
     "output_type": "stream",
     "text": [
      "\n",
      "1\n",
      "22\n",
      "333\n",
      "4444\n",
      "55555\n",
      "666666\n",
      "7777777\n",
      "88888888\n",
      "999999999\n"
     ]
    }
   ],
   "source": [
    "\"\"\"43. Write a Python program to construct the following pattern, using a nested loop number. \n",
    "\n",
    "1\n",
    "22\n",
    "333\n",
    "4444\n",
    "55555\n",
    "666666\n",
    "7777777\n",
    "88888888\n",
    "999999999\n",
    "\"\"\"\n",
    "\n",
    "for i in range(10): \n",
    "        print(str(i) * (i))"
   ]
  }
 ],
 "metadata": {
  "kernelspec": {
   "display_name": "Python 3",
   "language": "python",
   "name": "python3"
  },
  "language_info": {
   "codemirror_mode": {
    "name": "ipython",
    "version": 3
   },
   "file_extension": ".py",
   "mimetype": "text/x-python",
   "name": "python",
   "nbconvert_exporter": "python",
   "pygments_lexer": "ipython3",
   "version": "3.7.3"
  }
 },
 "nbformat": 4,
 "nbformat_minor": 2
}
